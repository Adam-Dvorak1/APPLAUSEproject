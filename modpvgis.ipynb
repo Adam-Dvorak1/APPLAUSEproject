{
 "cells": [
  {
   "cell_type": "code",
   "execution_count": 26,
   "metadata": {},
   "outputs": [],
   "source": [
    "import pandas as pd\n",
    "pvgis = pd.read_csv('data/og_solar_pvgis/Timeseries_35.854_-120.304_E5_1kWp_crystSi_14_33deg_1deg_2017_2020removeheadfoot.csv', index_col = 0)"
   ]
  },
  {
   "cell_type": "code",
   "execution_count": 27,
   "metadata": {},
   "outputs": [],
   "source": [
    "pvgis17 = pvgis[0:8760]\n",
    "pvgis17.to_csv('data/og_solar_pvgis/pvgis17.csv')\n",
    "# print(pvgis17)\n",
    "\n",
    "pvgis18 = pvgis[8760:17520]\n",
    "pvgis18.to_csv('data/og_solar_pvgis/pvgis18.csv')\n",
    "# pvgis18\n",
    "pvgis19 = pvgis[17520:26280]\n",
    "pvgis19.to_csv('data/og_solar_pvgis/pvgis19.csv')\n",
    "pvgis20 = pvgis[26280:]\n",
    "pvgis20.to_csv('data/og_solar_pvgis/pvgis20.csv')"
   ]
  },
  {
   "cell_type": "code",
   "execution_count": 53,
   "metadata": {},
   "outputs": [],
   "source": [
    "pvgis17 = pd.read_csv('data/og_solar_pvgis/pvgis20.csv', index_col = 0)\n",
    "pvgis17.index = pd.to_datetime(pvgis17.index, format = '%Y%m%d:%H%M')\n",
    "pvgis17.index = pvgis17.index.rename('UTC')\n",
    "# pvgis17.index = pvgis17['Real time']\n",
    "pvgis17.index = pvgis17.index.shift(-30, freq = \"min\")\n",
    "pvgis17['solar'] = pvgis17['P']/1000\n",
    "pvgis17['biogas'] = 0.8\n",
    "pvgis17 = pvgis17.drop(['P', 'G(i)', 'H_sun', \"T2m\", \"WS10m\", \"Int\"], axis = 1)\n",
    "pvgis17.to_csv('data/final_solar_csvs/PVGISRealCalFlatsSolarCFs_2020.csv')"
   ]
  },
  {
   "cell_type": "markdown",
   "metadata": {},
   "source": []
  }
 ],
 "metadata": {
  "kernelspec": {
   "display_name": "Python 3",
   "language": "python",
   "name": "python3"
  },
  "language_info": {
   "codemirror_mode": {
    "name": "ipython",
    "version": 3
   },
   "file_extension": ".py",
   "mimetype": "text/x-python",
   "name": "python",
   "nbconvert_exporter": "python",
   "pygments_lexer": "ipython3",
   "version": "3.9.5"
  },
  "orig_nbformat": 4
 },
 "nbformat": 4,
 "nbformat_minor": 2
}
